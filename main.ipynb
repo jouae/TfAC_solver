{
 "cells": [
  {
   "cell_type": "code",
   "execution_count": 23,
   "id": "402cc904",
   "metadata": {},
   "outputs": [],
   "source": [
    "import numpy as np\n",
    "import matplotlib.pyplot as plt\n",
    "from matplotlib.animation import FuncAnimation\n",
    "from scipy import special\n",
    "from scipy.optimize import fsolve\n",
    "\n",
    "from tqdm.auto import tqdm\n",
    "from scipy.sparse import coo_matrix, kron\n",
    "from scipy.linalg import norm"
   ]
  },
  {
   "cell_type": "markdown",
   "id": "a47f9c50",
   "metadata": {},
   "source": [
    "# Advection Equation\n",
    "\n",
    "## Periodic Boundary Condition\n",
    "\\begin{equation}\\displaystyle\n",
    "    \\begin{cases}\n",
    "        u_t - u_{xx} = 0, \\text{ for } x\\in [0,L], t\\geq 0, \\\\\n",
    "        u(0+x,t)=u(L+x,t)=0, t\\geq 0, \\\\\n",
    "        u(x,0)=f(x), \\text{ for } x\\in[0,L].\n",
    "    \\end{cases}\n",
    "\\end{equation}\n",
    "\n",
    "## Dirichlet \n",
    "\\begin{equation}\\displaystyle\n",
    "    \\begin{cases}\n",
    "        u_t - u_{xx} = 0, \\text{ for } x\\in [0,L], t\\geq 0, \\\\\n",
    "        u(x,t)=u(x,t)=0, t\\geq 0, \\\\\n",
    "        u(x,0)=f(x), \\text{ for } x\\in[0,L].\n",
    "    \\end{cases}\n",
    "\\end{equation}\n",
    "\n",
    "\n",
    "## Neumann \n",
    "\\begin{equation}\\displaystyle\n",
    "    \\begin{cases}\n",
    "        u_t - u_{xx} = 0, \\text{ for } x\\in [0,L], t\\geq 0, \\\\\n",
    "        u_x(x,t)=u_x(x,t)=0, t\\geq 0, \\\\\n",
    "        u(x,0)=f(x), \\text{ for } x\\in[0,L].\n",
    "    \\end{cases}\n",
    "\\end{equation}"
   ]
  },
  {
   "cell_type": "code",
   "execution_count": 44,
   "id": "17f6010f",
   "metadata": {},
   "outputs": [],
   "source": [
    "class ForwardAdvectionEquation1D:\n",
    "    # Forward time central space advcection equation\n",
    "    # conditional stable\n",
    "    def __init__(self, x_left, x_right, t_left, t_right,\n",
    "                 Nx, Nt, bdy_cond):\n",
    "        self.x_left = x_left\n",
    "        self.x_right = x_right\n",
    "        self.t_left = t_left\n",
    "        self.t_right = t_right\n",
    "        self.step_h = 1 / (Nx-1)\n",
    "        self.step_t = 1 / (Nt-1)\n",
    "        self.bdy_cond = bdy_cond\n",
    "        \n",
    "        self.step_ratio = self.step_t / (self.step_h**2)\n",
    "        assert self.bdy_cond in [\"Periodic\", \"Dirichlet\",  \"Neumann\"], \" The boundary conditions is not allowed.\"\n",
    "        \n",
    "        if(self.checkStability()):\n",
    "            self.setMatrix(Nx-1)\n",
    "        else:\n",
    "            print(\"nonstable step ratio\")\n",
    "            return\n",
    "        \n",
    "    def checkStability(self):\n",
    "        if self.step_ratio <= 1/2:\n",
    "            # stable\n",
    "            return True\n",
    "        else:\n",
    "            # nonstable\n",
    "            return False\n",
    "\n",
    "    def setMatrix(self, N):\n",
    "        # linear system of of spatial nodes of each time step\n",
    "        if self.bdy_cond == \"Periodic\":\n",
    "            # x0, x1, x2, ... , x_{n-1}\n",
    "            row = np.arange(1, N)\n",
    "            col = np.arange(0, N-1)\n",
    "            data = self.step_ratio * np.ones(N-1)\n",
    "            off_diag = coo_matrix((data, (row, col)), shape=(N, N))\n",
    "            \n",
    "            row = np.arange(0, N)\n",
    "            col = np.arange(0, N)\n",
    "            data = (1 - 2*self.step_ratio) * np.ones(N)\n",
    "            diag = coo_matrix((data, (row, col)), shape=(N, N))\n",
    "            bdy = coo_matrix(([self.step_ratio], ([0], [N-1])), shape=(N, N))\n",
    "            \n",
    "            off_diag = off_diag+off_diag.T\n",
    "            bdy = bdy + bdy.T\n",
    "            self.A = off_diag + diag + bdy \n",
    "        elif self.bdy_cond == \"Dirichlet\" or self.bdy_cond == \"Neumann\":\n",
    "            return\n",
    "        else:\n",
    "            return\n",
    "\n",
    "#     def setInitalCondition(self):\n",
    "#         if self.bdy_cond == \"Dirichlet\":\n",
    "#             return\n",
    "    def solve(self, u):\n",
    "        return self.A.dot(u)"
   ]
  },
  {
   "cell_type": "code",
   "execution_count": 45,
   "id": "734e3c02",
   "metadata": {},
   "outputs": [],
   "source": [
    "x_left = 0\n",
    "x_right = 1\n",
    "\n",
    "t_left = 0\n",
    "t_right = 10\n",
    "\n",
    "Nx = pow(2,5) # number of spatial nodes\n",
    "Nt = pow(2,12) # number of temporal nodes\n",
    "step_h = (x_right-x_left)/(Nx-1)\n",
    "step_t = (t_right-t_left)/(Nt-1)\n",
    "max_iter = 2**5\n",
    "\n",
    "\n",
    "x = np.linspace(x_left, x_right, Nx)[:-1] # spatial domain\n",
    "t = np.linspace(t_left, t_right, Nt) # temporal domain\n",
    "\n",
    "u0 = np.exp(-1/2 * (x/0.4)**2) # initial condition\n",
    "\n",
    "# u_exact = np.exp(-1/2 * ((x-t)/0.4)**2)\n",
    "u_exact = [np.exp(-1/2 * ((x-t_i)/0.4)**2) for t_i in t]"
   ]
  },
  {
   "cell_type": "code",
   "execution_count": 43,
   "id": "e5890033",
   "metadata": {},
   "outputs": [
    {
     "ename": "SyntaxError",
     "evalue": "invalid syntax (2001527971.py, line 1)",
     "output_type": "error",
     "traceback": [
      "\u001b[1;36m  Input \u001b[1;32mIn [43]\u001b[1;36m\u001b[0m\n\u001b[1;33m    coo_matrix(([2], ([0], [2]), shape=(2,2))).todense()\u001b[0m\n\u001b[1;37m                                      ^\u001b[0m\n\u001b[1;31mSyntaxError\u001b[0m\u001b[1;31m:\u001b[0m invalid syntax\n"
     ]
    }
   ],
   "source": [
    "coo_matrix(([2], ([0], [2]), shape=(2,2))).todense()"
   ]
  },
  {
   "cell_type": "code",
   "execution_count": 46,
   "id": "cd261eb5",
   "metadata": {},
   "outputs": [],
   "source": [
    "AE = ForwardAdvectionEquation1D(x_left, x_right, t_left, t_right, Nx, Nt, \"Periodic\")"
   ]
  },
  {
   "cell_type": "code",
   "execution_count": 82,
   "id": "1232b5a6",
   "metadata": {},
   "outputs": [],
   "source": [
    "u_prev = u0\n",
    "mass_list = []\n",
    "history_u = []\n",
    "for i in range(0, pow(2,10)):\n",
    "    u = AE.solve(u_prev)\n",
    "    mass_list.append(abs(sum(u0-u)))\n",
    "    u_prev = u\n",
    "    history_u.append(u_prev)"
   ]
  },
  {
   "cell_type": "code",
   "execution_count": 92,
   "id": "cdef82ad",
   "metadata": {
    "scrolled": false
   },
   "outputs": [
    {
     "data": {
      "text/plain": [
       "<Figure size 432x288 with 0 Axes>"
      ]
     },
     "metadata": {},
     "output_type": "display_data"
    },
    {
     "data": {
      "image/png": "[encoded data removed]",
      "text/plain": [
       "<Figure size 720x360 with 1 Axes>"
      ]
     },
     "metadata": {
      "needs_background": "light"
     },
     "output_type": "display_data"
    }
   ],
   "source": [
    "plt.figure(1)\n",
    "plt.figure(figsize=(10,5))\n",
    "plt.plot(mass_list)\n",
    "plt.title(\"mass\")\n",
    "plt.ylabel(\"$\\Vert u_0 - u_i \\Vert$\")\n",
    "plt.xlabel(\"$i$-th iteration\")\n",
    "plt.ylim(-1e-13,1e-12)\n",
    "plt.show()"
   ]
  },
  {
   "cell_type": "code",
   "execution_count": 421,
   "id": "b4573f67",
   "metadata": {},
   "outputs": [],
   "source": [
    "def animate(i):\n",
    "    line.set_data(history_u[i])\n",
    "    return line,\n"
   ]
  },
  {
   "cell_type": "code",
   "execution_count": 426,
   "id": "8e42a2e1",
   "metadata": {},
   "outputs": [
    {
     "data": {
      "image/png": "[encoded data removed]",
      "text/plain": [
       "<Figure size 432x288 with 1 Axes>"
      ]
     },
     "metadata": {
      "needs_background": "light"
     },
     "output_type": "display_data"
    },
    {
     "ename": "RuntimeError",
     "evalue": "Requested MovieWriter (ffmpeg) not available",
     "output_type": "error",
     "traceback": [
      "\u001b[1;31m---------------------------------------------------------------------------\u001b[0m",
      "\u001b[1;31mRuntimeError\u001b[0m                              Traceback (most recent call last)",
      "Input \u001b[1;32mIn [426]\u001b[0m, in \u001b[0;36m<cell line: 11>\u001b[1;34m()\u001b[0m\n\u001b[0;32m      7\u001b[0m plt\u001b[38;5;241m.\u001b[39mshow()\n\u001b[0;32m     10\u001b[0m \u001b[38;5;28;01mfrom\u001b[39;00m \u001b[38;5;21;01mIPython\u001b[39;00m\u001b[38;5;21;01m.\u001b[39;00m\u001b[38;5;21;01mdisplay\u001b[39;00m \u001b[38;5;28;01mimport\u001b[39;00m HTML\n\u001b[1;32m---> 11\u001b[0m HTML(\u001b[43mani\u001b[49m\u001b[38;5;241;43m.\u001b[39;49m\u001b[43mto_html5_video\u001b[49m\u001b[43m(\u001b[49m\u001b[43m)\u001b[49m)\n",
      "File \u001b[1;32m~\\anaconda3\\lib\\site-packages\\matplotlib\\animation.py:1266\u001b[0m, in \u001b[0;36mAnimation.to_html5_video\u001b[1;34m(self, embed_limit)\u001b[0m\n\u001b[0;32m   1263\u001b[0m path \u001b[38;5;241m=\u001b[39m Path(tmpdir, \u001b[38;5;124m\"\u001b[39m\u001b[38;5;124mtemp.m4v\u001b[39m\u001b[38;5;124m\"\u001b[39m)\n\u001b[0;32m   1264\u001b[0m \u001b[38;5;66;03m# We create a writer manually so that we can get the\u001b[39;00m\n\u001b[0;32m   1265\u001b[0m \u001b[38;5;66;03m# appropriate size for the tag\u001b[39;00m\n\u001b[1;32m-> 1266\u001b[0m Writer \u001b[38;5;241m=\u001b[39m \u001b[43mwriters\u001b[49m\u001b[43m[\u001b[49m\u001b[43mmpl\u001b[49m\u001b[38;5;241;43m.\u001b[39;49m\u001b[43mrcParams\u001b[49m\u001b[43m[\u001b[49m\u001b[38;5;124;43m'\u001b[39;49m\u001b[38;5;124;43manimation.writer\u001b[39;49m\u001b[38;5;124;43m'\u001b[39;49m\u001b[43m]\u001b[49m\u001b[43m]\u001b[49m\n\u001b[0;32m   1267\u001b[0m writer \u001b[38;5;241m=\u001b[39m Writer(codec\u001b[38;5;241m=\u001b[39m\u001b[38;5;124m'\u001b[39m\u001b[38;5;124mh264\u001b[39m\u001b[38;5;124m'\u001b[39m,\n\u001b[0;32m   1268\u001b[0m                 bitrate\u001b[38;5;241m=\u001b[39mmpl\u001b[38;5;241m.\u001b[39mrcParams[\u001b[38;5;124m'\u001b[39m\u001b[38;5;124manimation.bitrate\u001b[39m\u001b[38;5;124m'\u001b[39m],\n\u001b[0;32m   1269\u001b[0m                 fps\u001b[38;5;241m=\u001b[39m\u001b[38;5;241m1000.\u001b[39m \u001b[38;5;241m/\u001b[39m \u001b[38;5;28mself\u001b[39m\u001b[38;5;241m.\u001b[39m_interval)\n\u001b[0;32m   1270\u001b[0m \u001b[38;5;28mself\u001b[39m\u001b[38;5;241m.\u001b[39msave(\u001b[38;5;28mstr\u001b[39m(path), writer\u001b[38;5;241m=\u001b[39mwriter)\n",
      "File \u001b[1;32m~\\anaconda3\\lib\\site-packages\\matplotlib\\animation.py:151\u001b[0m, in \u001b[0;36mMovieWriterRegistry.__getitem__\u001b[1;34m(self, name)\u001b[0m\n\u001b[0;32m    149\u001b[0m \u001b[38;5;28;01mif\u001b[39;00m \u001b[38;5;28mself\u001b[39m\u001b[38;5;241m.\u001b[39mis_available(name):\n\u001b[0;32m    150\u001b[0m     \u001b[38;5;28;01mreturn\u001b[39;00m \u001b[38;5;28mself\u001b[39m\u001b[38;5;241m.\u001b[39m_registered[name]\n\u001b[1;32m--> 151\u001b[0m \u001b[38;5;28;01mraise\u001b[39;00m \u001b[38;5;167;01mRuntimeError\u001b[39;00m(\u001b[38;5;124mf\u001b[39m\u001b[38;5;124m\"\u001b[39m\u001b[38;5;124mRequested MovieWriter (\u001b[39m\u001b[38;5;132;01m{\u001b[39;00mname\u001b[38;5;132;01m}\u001b[39;00m\u001b[38;5;124m) not available\u001b[39m\u001b[38;5;124m\"\u001b[39m)\n",
      "\u001b[1;31mRuntimeError\u001b[0m: Requested MovieWriter (ffmpeg) not available"
     ]
    }
   ],
   "source": [
    "fig, ax = plt.subplots()\n",
    "line,  = ax.plot(0, 0)\n",
    "ax.set_xlim(0,1)\n",
    "ax.set_ylim(-1.1,1.1)\n",
    "\n",
    "ani = FuncAnimation(fig, animate, frames=len(history_u), interval=100)\n",
    "plt.show()\n",
    "\n",
    "\n",
    "from IPython.display import HTML\n",
    "HTML(ani.to_html5_video())"
   ]
  },
  {
   "cell_type": "code",
   "execution_count": 55,
   "id": "a9132a12",
   "metadata": {},
   "outputs": [
    {
     "data": {
      "text/plain": [
       "[<matplotlib.lines.Line2D at 0x277bc38c700>]"
      ]
     },
     "execution_count": 55,
     "metadata": {},
     "output_type": "execute_result"
    },
    {
     "data": {
      "image/png": "[encoded data removed]",
      "text/plain": [
       "<Figure size 432x288 with 1 Axes>"
      ]
     },
     "metadata": {
      "needs_background": "light"
     },
     "output_type": "display_data"
    }
   ],
   "source": [
    "plt.plot(u)\n",
    "plt.plot(u0)"
   ]
  }
 ],
 "metadata": {
  "kernelspec": {
   "display_name": "Python 3 (ipykernel)",
   "language": "python",
   "name": "python3"
  },
  "language_info": {
   "codemirror_mode": {
    "name": "ipython",
    "version": 3
   },
   "file_extension": ".py",
   "mimetype": "text/x-python",
   "name": "python",
   "nbconvert_exporter": "python",
   "pygments_lexer": "ipython3",
   "version": "3.9.12"
  }
 },
 "nbformat": 4,
 "nbformat_minor": 5
}
