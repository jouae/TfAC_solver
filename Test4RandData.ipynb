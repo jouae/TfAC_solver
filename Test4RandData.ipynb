{
 "cells": [
  {
   "cell_type": "code",
   "execution_count": 1,
   "id": "a12d858d",
   "metadata": {},
   "outputs": [],
   "source": [
    "import numpy as np\n",
    "import matplotlib.pyplot as plt\n",
    "import matplotlib.gridspec as gridspec\n",
    "from scipy.special import gamma, binom\n",
    "from scipy.sparse import diags, kron, block_diag\n",
    "from scipy.sparse.linalg import spsolve\n",
    "from scipy.optimize import fsolve\n",
    "from scipy.linalg import lstsq\n",
    "from pathlib import Path\n",
    "import time\n",
    "import json\n",
    "\n",
    "\n",
    "import datetime\n",
    "\n",
    "def compute_classical_energy(u, eps, h):\n",
    "    \"\"\"Compute the discrete energy :\n",
    "\n",
    "    Parameters\n",
    "    ----------\n",
    "    u : 2D-array\n",
    "        The numerical solution of u.\n",
    "    eps : float\n",
    "        The diffusion coefficient.\n",
    "    h : float\n",
    "        The mesh size of x and y direction.\n",
    "\n",
    "    Returns\n",
    "    -------\n",
    "    float\n",
    "        The discrete energy of u.\n",
    "        \n",
    "    \"\"\"\n",
    "    \n",
    "    ux = np.gradient(u)/h\n",
    "    term1 = np.sum((eps**2 / 2.0) * (ux**2))\n",
    "    term2 = np.sum(((1 - u ** 2) ** 2) / 4)\n",
    "    return h * (term1 + term2)\n",
    "\n",
    "def set_coef(terminate_point, alpha, method='L1'):\n",
    "    \"\"\"Set the coefficient of fractional scheme:\n",
    "\n",
    "    Parameters\n",
    "    ----------\n",
    "    terminate_point : int\n",
    "        The number of coefficient.\n",
    "    alpha : float\n",
    "        The fractional order between (0,1).\n",
    "    method : str \n",
    "        The coefficient of scheme to generate.\n",
    "        (defualt is 'L1')\n",
    "        possible options : 'L1', 'GL'.\n",
    "\n",
    "    Returns\n",
    "    -------\n",
    "    1D array\n",
    "        The coefficient array generated \n",
    "        based on the selected method.\n",
    "        \n",
    "    \"\"\"\n",
    "    \n",
    "    if method == 'L1':\n",
    "        coef = [(j)**(1-alpha) - (j-1)**(1-alpha) \\\n",
    "                for j in range(1, terminate_point+1)]\n",
    "    elif method == 'GL':\n",
    "        coef = [(-1)**(j) * binom(alpha, j) \\\n",
    "                for j in range(0, terminate_point+1)]\n",
    "        \n",
    "    return np.array(coef)\n",
    "\n",
    "def set_Laplacian2D(Nx, h, BC='periodic'):\n",
    "    \"\"\"Set the 2D discrete laplacian by central difference:\n",
    "        Neumann boundary laplacian is discreted by \n",
    "        \n",
    "        x-direction : u_{-1,j,k}=u_{0,j,k} and\n",
    "                      u_{Nx+1,j,k}=u_{0,j,k}\n",
    "                          \n",
    "        y-direction : u_{i,-1,k}=u_{i,0,k} and\n",
    "                      u_{i,Nx+1,k}=u_{i,0,k}\n",
    "            \n",
    "        Built by two block matries and two off-diagnoals, \n",
    "        corner block (corB), central block (cenB)\n",
    "            \n",
    "        The diagonal block is [corB, cenB, ..., cenB, corB]\n",
    "        The off-diagnoals are diagonals line below (above) \n",
    "        the main diagonal by Nx positions, all consisting of 1.\n",
    "            \n",
    "        L = diagonal block + off-diagonals\n",
    "\n",
    "    Parameters\n",
    "    ----------\n",
    "    Nx : int\n",
    "        The number of mesh grids.\n",
    "    h : float\n",
    "        The mesh size.\n",
    "    BC : str\n",
    "        The boundary condition. (default is 'periodic')\n",
    "        possible options : 'periodic', 'nuemann'\n",
    "\n",
    "    Returns\n",
    "    -------\n",
    "    2D array\n",
    "        The discrete laplacian with certain boundary.\n",
    "        \n",
    "    \"\"\"\n",
    "    if BC == 'periodic':\n",
    "        diag = np.ones(Nx-1)\n",
    "        L = diags([diag, -2*diag, diag, 1, 1], \\\n",
    "                  [-1, 0, 1 , -Nx+1, Nx-1], shape=(Nx-1, Nx-1))\n",
    "        I = diags(diag, shape=(Nx-1, Nx-1))\n",
    "    \n",
    "        L = kron(L, I) + kron(I, L)\n",
    "        \n",
    "    elif BC == 'neumann':\n",
    "        # bulid the block\n",
    "        diag_cor = 3*np.ones(Nx)\n",
    "        diag_cor[0] = diag_cor[-1] = 2\n",
    "\n",
    "        diag_cen = 4*np.ones(Nx)\n",
    "        diag_cen[0] = diag_cen[-1] = 3\n",
    "\n",
    "        off_I = diags([np.ones(Nx**2), np.ones(Nx**2)], \\\n",
    "                      [Nx,-Nx], shape=(Nx**2, Nx**2))\n",
    "\n",
    "        corB = diags([np.ones(Nx), -diag_cor, np.ones(Nx)], \\\n",
    "                     [-1, 0, 1], shape=(Nx, Nx))\n",
    "\n",
    "        cenB = diags([np.ones(Nx), -diag_cen, np.ones(Nx)], \\\n",
    "                     [-1, 0, 1], shape=(Nx, Nx))\n",
    "\n",
    "        diagBs = [cenB for i in range(Nx-2)]\n",
    "        diagBs = tuple([corB]+diagBs+[corB])\n",
    "\n",
    "        L = block_diag(diagBs) + off_I\n",
    "        \n",
    "    return L / h**2"
   ]
  },
  {
   "cell_type": "code",
   "execution_count": 34,
   "id": "1232b0f9",
   "metadata": {
    "scrolled": false
   },
   "outputs": [
    {
     "name": "stderr",
     "output_type": "stream",
     "text": [
      "C:\\Users\\user\\AppData\\Local\\Temp\\ipykernel_10600\\623808805.py:125: RuntimeWarning: More than 20 figures have been opened. Figures created through the pyplot interface (`matplotlib.pyplot.figure`) are retained until explicitly closed and may consume too much memory. (To control this warning, see the rcParam `figure.max_open_warning`).\n",
      "  plt.figure(figsize=(12,5))\n",
      "C:\\Users\\user\\AppData\\Local\\Temp\\ipykernel_10600\\623808805.py:59: RuntimeWarning: More than 20 figures have been opened. Figures created through the pyplot interface (`matplotlib.pyplot.figure`) are retained until explicitly closed and may consume too much memory. (To control this warning, see the rcParam `figure.max_open_warning`).\n",
      "  fig = plt.figure(figsize=(15,8))\n"
     ]
    },
    {
     "name": "stdout",
     "output_type": "stream",
     "text": [
      "執行時間： 1 day, 19:56:34.395618\n"
     ]
    },
    {
     "data": {
      "text/plain": [
       "<Figure size 1080x576 with 0 Axes>"
      ]
     },
     "metadata": {},
     "output_type": "display_data"
    },
    {
     "data": {
      "text/plain": [
       "<Figure size 1080x576 with 0 Axes>"
      ]
     },
     "metadata": {},
     "output_type": "display_data"
    },
    {
     "data": {
      "text/plain": [
       "<Figure size 1080x576 with 0 Axes>"
      ]
     },
     "metadata": {},
     "output_type": "display_data"
    },
    {
     "data": {
      "text/plain": [
       "<Figure size 1080x576 with 0 Axes>"
      ]
     },
     "metadata": {},
     "output_type": "display_data"
    },
    {
     "data": {
      "text/plain": [
       "<Figure size 1080x576 with 0 Axes>"
      ]
     },
     "metadata": {},
     "output_type": "display_data"
    },
    {
     "data": {
      "text/plain": [
       "<Figure size 1080x576 with 0 Axes>"
      ]
     },
     "metadata": {},
     "output_type": "display_data"
    },
    {
     "data": {
      "text/plain": [
       "<Figure size 1080x576 with 0 Axes>"
      ]
     },
     "metadata": {},
     "output_type": "display_data"
    },
    {
     "data": {
      "text/plain": [
       "<Figure size 1080x576 with 0 Axes>"
      ]
     },
     "metadata": {},
     "output_type": "display_data"
    },
    {
     "data": {
      "text/plain": [
       "<Figure size 1080x576 with 0 Axes>"
      ]
     },
     "metadata": {},
     "output_type": "display_data"
    },
    {
     "data": {
      "text/plain": [
       "<Figure size 1080x576 with 0 Axes>"
      ]
     },
     "metadata": {},
     "output_type": "display_data"
    },
    {
     "data": {
      "text/plain": [
       "<Figure size 1080x576 with 0 Axes>"
      ]
     },
     "metadata": {},
     "output_type": "display_data"
    },
    {
     "data": {
      "text/plain": [
       "<Figure size 1080x576 with 0 Axes>"
      ]
     },
     "metadata": {},
     "output_type": "display_data"
    },
    {
     "data": {
      "text/plain": [
       "<Figure size 1080x576 with 0 Axes>"
      ]
     },
     "metadata": {},
     "output_type": "display_data"
    },
    {
     "data": {
      "text/plain": [
       "<Figure size 1080x576 with 0 Axes>"
      ]
     },
     "metadata": {},
     "output_type": "display_data"
    },
    {
     "data": {
      "text/plain": [
       "<Figure size 1080x576 with 0 Axes>"
      ]
     },
     "metadata": {},
     "output_type": "display_data"
    },
    {
     "data": {
      "text/plain": [
       "<Figure size 1080x576 with 0 Axes>"
      ]
     },
     "metadata": {},
     "output_type": "display_data"
    },
    {
     "data": {
      "text/plain": [
       "<Figure size 1080x576 with 0 Axes>"
      ]
     },
     "metadata": {},
     "output_type": "display_data"
    },
    {
     "data": {
      "text/plain": [
       "<Figure size 1080x576 with 0 Axes>"
      ]
     },
     "metadata": {},
     "output_type": "display_data"
    },
    {
     "data": {
      "text/plain": [
       "<Figure size 1080x576 with 0 Axes>"
      ]
     },
     "metadata": {},
     "output_type": "display_data"
    },
    {
     "data": {
      "text/plain": [
       "<Figure size 1080x576 with 0 Axes>"
      ]
     },
     "metadata": {},
     "output_type": "display_data"
    },
    {
     "data": {
      "text/plain": [
       "<Figure size 1080x576 with 0 Axes>"
      ]
     },
     "metadata": {},
     "output_type": "display_data"
    },
    {
     "data": {
      "text/plain": [
       "<Figure size 1080x576 with 0 Axes>"
      ]
     },
     "metadata": {},
     "output_type": "display_data"
    },
    {
     "data": {
      "text/plain": [
       "<Figure size 1080x576 with 0 Axes>"
      ]
     },
     "metadata": {},
     "output_type": "display_data"
    },
    {
     "data": {
      "text/plain": [
       "<Figure size 1080x576 with 0 Axes>"
      ]
     },
     "metadata": {},
     "output_type": "display_data"
    },
    {
     "data": {
      "text/plain": [
       "<Figure size 1080x576 with 0 Axes>"
      ]
     },
     "metadata": {},
     "output_type": "display_data"
    },
    {
     "data": {
      "text/plain": [
       "<Figure size 1080x576 with 0 Axes>"
      ]
     },
     "metadata": {},
     "output_type": "display_data"
    },
    {
     "data": {
      "text/plain": [
       "<Figure size 1080x576 with 0 Axes>"
      ]
     },
     "metadata": {},
     "output_type": "display_data"
    },
    {
     "data": {
      "text/plain": [
       "<Figure size 1080x576 with 0 Axes>"
      ]
     },
     "metadata": {},
     "output_type": "display_data"
    },
    {
     "data": {
      "text/plain": [
       "<Figure size 1080x576 with 0 Axes>"
      ]
     },
     "metadata": {},
     "output_type": "display_data"
    },
    {
     "data": {
      "text/plain": [
       "<Figure size 1080x576 with 0 Axes>"
      ]
     },
     "metadata": {},
     "output_type": "display_data"
    },
    {
     "data": {
      "text/plain": [
       "<Figure size 1080x576 with 0 Axes>"
      ]
     },
     "metadata": {},
     "output_type": "display_data"
    },
    {
     "data": {
      "text/plain": [
       "<Figure size 1080x576 with 0 Axes>"
      ]
     },
     "metadata": {},
     "output_type": "display_data"
    },
    {
     "data": {
      "text/plain": [
       "<Figure size 1080x576 with 0 Axes>"
      ]
     },
     "metadata": {},
     "output_type": "display_data"
    },
    {
     "data": {
      "text/plain": [
       "<Figure size 1080x576 with 0 Axes>"
      ]
     },
     "metadata": {},
     "output_type": "display_data"
    },
    {
     "data": {
      "text/plain": [
       "<Figure size 1080x576 with 0 Axes>"
      ]
     },
     "metadata": {},
     "output_type": "display_data"
    },
    {
     "data": {
      "text/plain": [
       "<Figure size 1080x576 with 0 Axes>"
      ]
     },
     "metadata": {},
     "output_type": "display_data"
    },
    {
     "data": {
      "text/plain": [
       "<Figure size 1080x576 with 0 Axes>"
      ]
     },
     "metadata": {},
     "output_type": "display_data"
    },
    {
     "data": {
      "text/plain": [
       "<Figure size 1080x576 with 0 Axes>"
      ]
     },
     "metadata": {},
     "output_type": "display_data"
    },
    {
     "data": {
      "text/plain": [
       "<Figure size 1080x576 with 0 Axes>"
      ]
     },
     "metadata": {},
     "output_type": "display_data"
    },
    {
     "data": {
      "text/plain": [
       "<Figure size 1080x576 with 0 Axes>"
      ]
     },
     "metadata": {},
     "output_type": "display_data"
    },
    {
     "data": {
      "text/plain": [
       "<Figure size 1080x576 with 0 Axes>"
      ]
     },
     "metadata": {},
     "output_type": "display_data"
    },
    {
     "data": {
      "text/plain": [
       "<Figure size 1080x576 with 0 Axes>"
      ]
     },
     "metadata": {},
     "output_type": "display_data"
    },
    {
     "data": {
      "text/plain": [
       "<Figure size 1080x576 with 0 Axes>"
      ]
     },
     "metadata": {},
     "output_type": "display_data"
    },
    {
     "data": {
      "text/plain": [
       "<Figure size 1080x576 with 0 Axes>"
      ]
     },
     "metadata": {},
     "output_type": "display_data"
    },
    {
     "data": {
      "text/plain": [
       "<Figure size 1080x576 with 0 Axes>"
      ]
     },
     "metadata": {},
     "output_type": "display_data"
    },
    {
     "data": {
      "text/plain": [
       "<Figure size 1080x576 with 0 Axes>"
      ]
     },
     "metadata": {},
     "output_type": "display_data"
    },
    {
     "data": {
      "text/plain": [
       "<Figure size 1080x576 with 0 Axes>"
      ]
     },
     "metadata": {},
     "output_type": "display_data"
    },
    {
     "data": {
      "text/plain": [
       "<Figure size 1080x576 with 0 Axes>"
      ]
     },
     "metadata": {},
     "output_type": "display_data"
    },
    {
     "data": {
      "text/plain": [
       "<Figure size 1080x576 with 0 Axes>"
      ]
     },
     "metadata": {},
     "output_type": "display_data"
    },
    {
     "data": {
      "text/plain": [
       "<Figure size 1080x576 with 0 Axes>"
      ]
     },
     "metadata": {},
     "output_type": "display_data"
    }
   ],
   "source": [
    "# set the inital input\n",
    "alpha_list = [0.1, 0.3, 0.5,  0.7, 0.9, 1]\n",
    "BC = 'periodic'\n",
    "\n",
    "L = 10\n",
    "eps = 0.1\n",
    "\n",
    "Nx = 2**7\n",
    "x = np.linspace(-L/2, L/2, Nx) \n",
    "y = np.linspace(-L/2, L/2, Nx)\n",
    "\n",
    "h = L / (Nx - 1)\n",
    "dt = 5*1e-3\n",
    "iter_max = 3000\n",
    "\n",
    "# set the discrete laplacian\n",
    "Lap = set_Laplacian2D(Nx, h, BC)\n",
    "\n",
    "if BC == 'periodic':\n",
    "    x = x[:-1]\n",
    "    y = y[:-1]\n",
    "    I = diags(np.ones((Nx-1)**2), shape=((Nx-1)**2, (Nx-1)**2))\n",
    "elif BC == 'neumann':\n",
    "    I = diags(np.ones((Nx)**2), shape=((Nx)**2, (Nx)**2))\n",
    "\n",
    "# set the 2D mesh grid by x and y\n",
    "X, Y = np.meshgrid(x, y)\n",
    "\n",
    "\n",
    "info_dict = {\n",
    "    'Nx': Nx,\n",
    "    'dt': dt,\n",
    "    'iteration': iter_max,\n",
    "    'eps': eps\n",
    "}\n",
    "\n",
    "\n",
    "TotalRandNum = 50\n",
    "\n",
    "\n",
    "start = datetime.datetime.now()\n",
    "\n",
    "for _ in range(TotalRandNum):\n",
    "\n",
    "    # nonsmooth test\n",
    "    u = 0.05*(2*np.random.rand(Nx-1, Nx-1)-1)\n",
    "\n",
    "    # smooth test\n",
    "    # u = np.tanh((1-((X)**2+(Y)**2))/5)*0.2\n",
    "\n",
    "    # turn 2D array into 1D array\n",
    "    u0 = u.flatten()\n",
    "\n",
    "\n",
    "    # the dicitionary to storage the different fractional order results\n",
    "    data_dict = {}\n",
    "\n",
    "    # set a figure to plot the energy in different alpha\n",
    "    fig = plt.figure(figsize=(15,8))\n",
    "\n",
    "    for alpha in alpha_list:\n",
    "    \n",
    "        # inital the history array\n",
    "        u_historyArray = u0\n",
    "        u = u0\n",
    "    \n",
    "        if alpha == 1:\n",
    "            # solved by classical allen cahn\n",
    "            H = (2+1/dt) * I - eps**2 * Lap\n",
    "        \n",
    "            for i in range(iter_max):\n",
    "                b = (3+1/dt)*u - u**3\n",
    "                u = spsolve(H, b)\n",
    "                u_historyArray = np.vstack([u_historyArray, u])\n",
    "        \n",
    "        else:\n",
    "            L1_coef = set_coef(iter_max, alpha, 'L1')/ dt**alpha / gamma(2-alpha)\n",
    "            H = (L1_coef[0]+2) * I - eps**2 * Lap\n",
    "        \n",
    "            for i in range(iter_max):\n",
    "                if i == 0: # first iteration u_1\n",
    "                    b =  (3 + L1_coef[0])*u - u**3\n",
    "                    u = spsolve(H, b)\n",
    "                else:\n",
    "                    u_nonlocalDiff = np.flipud(np.diff(u_historyArray, axis=0))\n",
    "                    u_nonlocal = L1_coef[1:i+1].dot(u_nonlocalDiff)\n",
    "        \n",
    "                    b = (3 + L1_coef[0])*u - u**3 - u_nonlocal\n",
    "                    u = spsolve(H, b)\n",
    "            \n",
    "                u_historyArray = np.vstack([u_historyArray, u])\n",
    "    \n",
    "        data_dict[alpha] = u_historyArray\n",
    "    \n",
    "    # set the mass array\n",
    "    DifferenceMass = []\n",
    "    for alpha in alpha_list:\n",
    "        mass = [np.sum(_) for _ in np.diff(data_dict[alpha], axis=0)]\n",
    "        DifferenceMass.append(mass)\n",
    "    \n",
    "    DifferenceMass = np.column_stack(DifferenceMass)\n",
    "    \n",
    "    \n",
    "    # check what kind of the DifferenceMass array\n",
    "    # all positive, all negative, or consist of positive and negative\n",
    "    if np.all(DifferenceMass<0):\n",
    "        DiffMassType = 'negative'\n",
    "    elif np.all(DifferenceMass>0):\n",
    "        DiffMassType = 'positive'\n",
    "    else:\n",
    "        DiffMassType = 'others'\n",
    "    \n",
    "    ts = str(time.time())\n",
    "    rootPath = Path('./data/coarsening') / DiffMassType / ts\n",
    "\n",
    "    if rootPath.exists() is False:\n",
    "        rootPath.mkdir(parents=True)\n",
    "\n",
    "    for alpha, u_historyArray in data_dict.items():\n",
    "        dataPath = rootPath / f'L1_{alpha}_coarsening.npy'\n",
    "        np.save(dataPath, u_historyArray)\n",
    "    \n",
    "    \n",
    "    # save fig\n",
    "    plt.figure(figsize=(12,5))\n",
    "    plt.title(r'Total mass of $U_{k+1}-U_k$')\n",
    "    plt.xlabel('k')\n",
    "    plt.ylabel(r'$\\mathbf{1}^T(U_{k+1}-U_k)$')\n",
    "    plt.plot(DifferenceMass)\n",
    "    plt.legend([rf\"$\\alpha=${alpha}\" for alpha in alpha_list])\n",
    "    \n",
    "    figPath = rootPath / f'{DiffMassType}.png'\n",
    "    plt.savefig(figPath)\n",
    "    plt.close()\n",
    "    \n",
    "    infoPath = rootPath / 'info.json'\n",
    "    infoPath.write_text(json.dumps(info_dict))\n",
    "    \n",
    "    \n",
    "\n",
    "    \n",
    "end = datetime.datetime.now()\n",
    "\n",
    "print(\"執行時間：\", end - start)"
   ]
  },
  {
   "cell_type": "code",
   "execution_count": 27,
   "id": "1ee59a56",
   "metadata": {},
   "outputs": [
    {
     "name": "stdout",
     "output_type": "stream",
     "text": [
      "[0.41248086126155525, 0.41764281482760574, 0.3984728436145757, 0.3742005784947164, 0.3506852180344844, 0.3295419791467038, 0.31100837606670395, 0.29488868312384553, 0.2808762811913347, 0.26866373931922616, 0.257977363768195, 0.2485843798850252, 0.24029051825013528, 0.2329347468956449, 0.2263836884194976, 0.22052660564996235, 0.21527118385046842, 0.2105400878959046, 0.20626819040369268, 0.2024003517509624, 0.19888964298335357, 0.19569592006922007, 0.1927846756667817, 0.19012611004877109, 0.18769437549869328, 0.18546695853401113, 0.18342417214045834, 0.18154873625836523, 0.17982542943597044, 0.17824079817400687, 0.17678291327965978, 0.17544116471931612, 0.17420608815392907, 0.17306921767011613, 0.1720229602677603, 0.17106048849513558, 0.17017564828371162, 0.16936287956382368, 0.1686171476680274, 0.167933883872653, 0.1673089337071931, 0.1667385118885592, 0.1662191629234663, 0.1657477265752592, 0.16532130751773427, 0.16493724860302922, 0.16459310725768303, 0.16428663459329143, 0.16401575687894274, 0.16377855907346034, 0.1635732701583577, 0.16339825004865738, 0.16325197788920506, 0.16313304157044456, 0.16304012831946696, 0.16297201624128027, 0.16292756670140437, 0.16290571745472296, 0.1629054764375545, 0.1629259161501481, 0.16296616856579618, 0.1630254205103126, 0.16310290946245048, 0.16319791973157324, 0.16330977897392243, 0.16343785501336194, 0.1635815529361326, 0.16374031243280168, 0.16391360536326768, 0.1641009335234942, 0.16430182659492698, 0.1645158402593881, 0.16474255446428512, 0.1649815718243825, 0.16523251614778076, 0.1654950310751307, 0.16576877882209667, 0.16605343901600017, 0.16634870761871026, 0.16665429592831738, 0.16696992965304572, 0.16729534805137486, 0.16763030313295735, 0.16797455891537716, 0.1683278907322849, 0.16869008458878693, 0.16906093656043075, 0.16944025223236248, 0.1698278461755698, 0.17022354145740307, 0.17062716918375653, 0.17103856807060785, 0.17145758404269124, 0.17188406985736202, 0.17231788475180312, 0.17275889411192505, 0.1732069691614045, 0.17366198666946714, 0.17412382867608006, 0.1745923822334014]\n",
      "\n",
      "\n",
      "[0.1863672875061737, 0.14898455209315764, 0.1256929896332547, 0.11012246569369041, 0.0992182221209174, 0.09126301998185193, 0.08525003326428174, 0.08056734325734269, 0.07682903349147875, 0.07378276668335594, 0.07125789318859797, 0.06913542166116314, 0.06733007919432785, 0.06577925242377895, 0.06443596437182164, 0.06326428913853094, 0.06223628115939536, 0.061329870472161416, 0.060527389290244114, 0.05981452049598002, 0.05917953397800497, 0.058612723087575765, 0.058105982658313966, 0.057652488776583403, 0.05724645276759525, 0.05688293005118687, 0.056557670074566774, 0.05626699735455194, 0.056007716334771696, 0.05577703465669659, 0.05557250080126714, 0.05539195304347591, 0.05523347738532579, 0.05509537266876295, 0.054976121471517356, 0.05487436569184242, 0.05478888595933529, 0.054718584186271804, 0.05466246871135966, 0.054619641594810565, 0.05458928770776083, 0.05457066532534102, 0.05456309798569761, 0.054565967419232975, 0.05457870738650904, 0.05460079829049682, 0.054631762451335275, 0.05467115994977259, 0.054718584960542355, 0.05477366250915927, 0.05483604559574212, 0.05490541263805329, 0.054981465192834984, 0.055063925920544016, 0.055152536763431084, 0.055247057311208395, 0.055347263331936083, 0.05545294544889313, 0.05556390794661603, 0.05567996769156598, 0.05580095315469043, 0.05592670352475159, 0.05605706790267172, 0.056191904568335754, 0.05633108031229813, 0.05647446982576741, 0.05662195514294088, 0.05677342513055057, 0.056928775019913024, 0.05708790597746475, 0.057250724710050285, 0.05741714310173154, 0.05758707787921332, 0.057760450303249944, 0.05793718588368193, 0.05811721411606832, 0.058300468237923904, 0.058486885002950656, 0.05867640447166736, 0.05886896981710059, 0.05906452714423183, 0.05926302532212002, 0.05946441582761858, 0.05966865259980174, 0.05987569190422883, 0.0600854922062502, 0.06029801405270949, 0.060513219961364946, 0.060731074317411184, 0.060951543276662766, 0.06117459467480156, 0.061400197942318976, 0.06162832402470569, 0.06185894530750862, 0.06209203554593549, 0.062327569798674015, 0.0625655243656052, 0.06280587672919956, 0.0630486054993185, 0.06329369036114277]\n",
      "\n",
      "\n",
      "[0.06674605687102542, 0.0521296385476091, 0.045718444254033944, 0.04196555680134667, 0.03945260851170374, 0.037634897486678295, 0.036252933875408934, 0.03516531473366346, 0.03428755385281123, 0.033565660328202365, 0.03296331028622494, 0.032455050823073935, 0.03202244731601213, 0.03165177750255823, 0.0313325884236805, 0.031056759010338678, 0.030817871496985463, 0.030610778232822197, 0.030431295953682394, 0.030275985444286405, 0.030141989766551663, 0.0300269135035951, 0.029928731269687446, 0.029845717456360867, 0.02977639162405749, 0.029719475581014596, 0.029673859303381428, 0.029638573621519965, 0.02961276813984846, 0.029595693244776355, 0.029586685335156113, 0.029585154614556596, 0.029590574936167097, 0.029602475304499852, 0.029620432723640136, 0.029644066146908246, 0.02967303133294915, 0.02970701645200858, 0.029745738316480842, 0.029788939133497748, 0.029836383696291276, 0.029887856945907027, 0.029943161846976592, 0.03000211753079383, 0.030064557666891947, 0.03013032903061403, 0.030199290239413673, 0.030271310634894848, 0.030346269291170715, 0.030424054132990323, 0.030504561149591165, 0.030587693692251654, 0.030673361845186386, 0.030761481860955415, 0.030851975652682113, 0.03094477033647737, 0.03103979781830362, 0.03113699442027088, 0.03123630054201203, 0.03133766035328904, 0.03144102151452445, 0.03154633492227268, 0.03165355447709528, 0.03176263687148598, 0.03187354139591156, 0.03198622976108826, 0.03210066593499564, 0.032216815993147095, 0.03233464798088348, 0.03245413178659176, 0.032575239024797684, 0.032697942928270676, 0.0328222182483275, 0.03294804116260358, 0.033075389189638815, 0.03320424110970926, 0.03333457689135007, 0.03346637762312639, 0.033599625450172, 0.033734303515151255, 0.033870395903262754, 0.03400788759096411, 0.03414676439813822, 0.03428701294340615, 0.03442862060238691, 0.03457157546862761, 0.034715866317060286, 0.034861482569736674, 0.03500841426373439, 0.035156652021032075, 0.03530618702022579, 0.0354570109699678, 0.03560911608399077, 0.035762495057607174, 0.035917141045604506, 0.03607304764140043, 0.036230208857423694, 0.036388619106589665, 0.03654827318483243, 0.03670916625461406]\n",
      "\n",
      "\n",
      "[0.022822190865487868, 0.019629279940545946, 0.01838025817179275, 0.017735607287664185, 0.017358208353746032, 0.017122562188974864, 0.01697117919646399, 0.016874001914542365, 0.01681379287808191, 0.016779964719106092, 0.01676566020433881, 0.016766245843965355, 0.01677848029751943, 0.016800029493731966, 0.016829170857557547, 0.016864605918776688, 0.016905337686548866, 0.016950588134546397, 0.016999741307661582, 0.017052303243964246, 0.017107873198939208, 0.017166122629476043, 0.01722677960766166, 0.01728961709962642, 0.017354444038681343, 0.017421098447304467, 0.01748944208100665, 0.01755935621612146, 0.017630738306879126, 0.017703499309836272, 0.017777561525464045, 0.01785285684400836, 0.017929325310024127, 0.01800691394001564, 0.018085575742562015, 0.018165268901533617, 0.018245956091532897, 0.018327603901152817, 0.0184101823446815, 0.018493664446744384, 0.018578025887415212, 0.018663244697701645, 0.01874930099717785, 0.018836176767083178, 0.01892385565332838, 0.019012322794881936, 0.019101564673762044, 0.019191568983455205, 0.019282324513173597, 0.019373821045715438, 0.019466049267072044, 0.019559000686208455, 0.01965266756369806, 0.019747042848044148, 0.01984212011873365, 0.01993789353519717, 0.02003435779094807, 0.020131508072272854, 0.020229340020980285, 0.02032784970068821, 0.020427033566294193, 0.02052688843626457, 0.020627411467420958, 0.020728600131978185, 0.020830452196587378, 0.020932965703172112, 0.021036138951393654, 0.021139970482556274, 0.021244459064843083, 0.0213496036797206, 0.02145540350943492, 0.021561857925462138, 0.02166896647786072, 0.021776728885413196, 0.021885145026515323, 0.021994214930711208, 0.022103938770862513, 0.02221431685586409, 0.02232534962386375, 0.022437037635974422, 0.022549381570385975, 0.02266238221690122, 0.022776040471820646, 0.022890357333168944, 0.023005333896230728, 0.023120971349372705, 0.023237270970137062, 0.023354234121564107, 0.023471862248767232, 0.02359015687569632, 0.023709119602108704, 0.02382875210072356, 0.023949056114541553, 0.02407003345432278, 0.02419168599621277, 0.024314015679511927, 0.024437024504559944, 0.02456071453075858, 0.02468508787468695, 0.024810146708334334]\n",
      "\n",
      "\n",
      "[0.008186557442839346, 0.007934564270422106, 0.007900333363572744, 0.007941853237121585, 0.008018639937802875, 0.00811418222626746, 0.008220403265014373, 0.008332887704845627, 0.008449036383443145, 0.008567238533358102, 0.008686459232125195, 0.008806016950771645, 0.008925456031284328, 0.009044469916338452, 0.009162853049543389, 0.009280469724530022, 0.00939723334237393, 0.009513092271012654, 0.009628020010301538, 0.009742008233604868, 0.009855061791961918, 0.009967195082293094, 0.01007842937918296, 0.010188790857262695, 0.010298309114941666, 0.010407016066215503, 0.010514945105528122, 0.010622130476897348, 0.010728606797163625, 0.010834408696257396, 0.010939570546878236, 0.01104412626280132, 0.011148109150136587, 0.011251551799483929, 0.011354486009867201, 0.011456942737257513, 0.011558952062243867, 0.011660543172534996, 0.011761744356915016, 0.011862583008051073, 0.01196308563205092, 0.012063277863153903, 0.01216318448223189, 0.012262829438116466, 0.012362235870904962, 0.012461426136635066, 0.012560421832795321, 0.012659243824301093, 0.012757912269597601, 0.012856446646671328, 0.012954865778751375, 0.013053187859594216, 0.01315143047820163, 0.013249610642927529, 0.013347744804888824, 0.013445848880658619, 0.013543938274205098, 0.013642027898069217, 0.01374013219377591, 0.013838265151476879, 0.013936440328836716, 0.014034670869182687, 0.01413296951891859, 0.014231348644235337, 0.014329820247131583, 0.014428395980767263, 0.014527087164174814, 0.014625904796348285, 0.014724859569735953, 0.014823961883154824, 0.01492322185416061, 0.015022649330879812, 0.015122253903336231, 0.01522204491429742, 0.015322031469652941, 0.015422222448338595, 0.015522626511851916, 0.015623252113345004, 0.015724107506337848, 0.015825200753059807, 0.01592653973242844, 0.016028132147700633, 0.016129985533788412, 0.01623210726427789, 0.016334504558140863, 0.016437184486173758, 0.01654015397716463, 0.016643419823798994, 0.01674698868832757, 0.016850867107996804, 0.016955061500249835, 0.017059578167724476, 0.017164423303039602, 0.01726960299338967, 0.017375123224950155, 0.01748098988710633, 0.01758720877651582, 0.017693785601003945, 0.017800725983303952, 0.01790803546464995]\n",
      "\n",
      "\n",
      "[0.005030902339255771, 0.005167674016570447, 0.005302733338866411, 0.005436139947949774, 0.005567951310867144, 0.005698222843082058, 0.005827008021257182, 0.005954358486661225, 0.006080324140213219, 0.006204953230006822, 0.00632829243207144, 0.006450386925049444, 0.0065712804594172565, 0.006691015421736571, 0.006809632894487747, 0.006927172711830123, 0.007043673511732075, 0.007159172784783551, 0.007273706919993404, 0.007387311247847509, 0.007500020080859128, 0.007611866751851331, 0.00772288365013055, 0.0078331022557484, 0.00794255317200572, 0.008051266156316402, 0.008159270149587665, 0.008266593304208454, 0.008373263010743887, 0.008479305923446472, 0.008584747984646942, 0.00868961444811428, 0.00879392990143639, 0.008897718287503959, 0.009001002925126574, 0.009103806528863388, 0.009206151228085905, 0.009308058585323953, 0.009409549613953303, 0.009510644795223063, 0.00961136409469628, 0.00971172697809488, 0.009811752426612828, 0.009911458951692763, 0.010010864609313618, 0.01010998701379862, 0.010208843351160894, 0.010307450392022223, 0.010405824504108407, 0.01050398166434328, 0.010601937470555278, 0.01069970715281909, 0.010797305584437311, 0.010894747292580257, 0.010992046468588762, 0.011089216977975056, 0.011186272370100381, 0.01128322588756277, 0.011380090475305442, 0.01147687878943625, 0.011573603205795728, 0.011670275828255755, 0.011766908496775995, 0.011863512795221015, 0.011960100058937438, 0.0120566813821175, 0.012153267624932622, 0.012249869420467657, 0.012346497181446717, 0.012443161106755578, 0.012539871187784931, 0.01263663721458295, 0.012733468781823715, 0.01283037529461132, 0.012927365974111892, 0.013024449863015885, 0.013121635830856192, 0.013218932579162346, 0.013316348646471429, 0.013413892413190697, 0.013511572106329306, 0.013609395804083255, 0.013707371440301874, 0.01380550680881628, 0.013903809567652557, 0.014002287243118422, 0.014100947233784605, 0.014199796814340884, 0.014298843139354638, 0.014398093246914496, 0.014497554062179889, 0.01459723240082236, 0.014697134972379605, 0.014797268383507235, 0.01489763914114851, 0.014998253655606267, 0.015099118243536064, 0.015200239130858172, 0.01530162245558056, 0.015403274270551232]\n",
      "\n",
      "\n"
     ]
    }
   ],
   "source": [
    "for alpha in alpha_list:\n",
    "    mass = [np.sum(_) for _ in np.diff(data_dict[alpha], axis=0)]\n",
    "    print(mass)\n",
    "    print(\"\\n\")"
   ]
  },
  {
   "cell_type": "code",
   "execution_count": 16,
   "id": "f31f710f",
   "metadata": {},
   "outputs": [
    {
     "data": {
      "text/plain": [
       "True"
      ]
     },
     "execution_count": 16,
     "metadata": {},
     "output_type": "execute_result"
    }
   ],
   "source": [
    "np.all(a<0)"
   ]
  },
  {
   "cell_type": "code",
   "execution_count": 8,
   "id": "65c8a61e",
   "metadata": {},
   "outputs": [
    {
     "data": {
      "text/plain": [
       "WindowsPath('data')"
      ]
     },
     "execution_count": 8,
     "metadata": {},
     "output_type": "execute_result"
    }
   ],
   "source": [
    "rootPath = Path('./data/')\n",
    "rootPath"
   ]
  },
  {
   "cell_type": "code",
   "execution_count": 9,
   "id": "10d470fb",
   "metadata": {},
   "outputs": [
    {
     "data": {
      "text/plain": [
       "WindowsPath('data/OK')"
      ]
     },
     "execution_count": 9,
     "metadata": {},
     "output_type": "execute_result"
    }
   ],
   "source": [
    "rootPath / 'OK'"
   ]
  },
  {
   "cell_type": "code",
   "execution_count": 54,
   "id": "339cdeae",
   "metadata": {},
   "outputs": [
    {
     "name": "stdout",
     "output_type": "stream",
     "text": [
      "data\\coarsening\\negative\\1687475111.9089508\n",
      "alpha: 0.1\n",
      "alpha: 0.3\n",
      "alpha: 0.5\n",
      "alpha: 0.7\n",
      "alpha: 0.9\n",
      "data\\coarsening\\negative\\1687494053.1776795\n",
      "alpha: 0.1\n",
      "alpha: 0.3\n",
      "alpha: 0.5\n",
      "alpha: 0.7\n",
      "alpha: 0.9\n",
      "data\\coarsening\\negative\\1687516085.488859\n",
      "alpha: 0.1\n",
      "alpha: 0.3\n",
      "alpha: 0.5\n",
      "alpha: 0.7\n",
      "alpha: 0.9\n",
      "data\\coarsening\\negative\\1687519220.3299334\n",
      "alpha: 0.1\n",
      "alpha: 0.3\n",
      "alpha: 0.5\n",
      "alpha: 0.7\n",
      "alpha: 0.9\n",
      "data\\coarsening\\negative\\1687522355.3277347\n",
      "alpha: 0.1\n",
      "alpha: 0.3\n",
      "alpha: 0.5\n",
      "alpha: 0.7\n",
      "alpha: 0.9\n",
      "data\\coarsening\\negative\\1687525500.432397\n",
      "alpha: 0.1\n",
      "alpha: 0.3\n",
      "alpha: 0.5\n",
      "alpha: 0.7\n",
      "alpha: 0.9\n",
      "data\\coarsening\\negative\\1687535013.0911114\n",
      "alpha: 0.1\n",
      "alpha: 0.3\n",
      "alpha: 0.5\n",
      "alpha: 0.7\n",
      "alpha: 0.9\n",
      "data\\coarsening\\negative\\1687544595.216458\n",
      "alpha: 0.1\n",
      "alpha: 0.3\n",
      "alpha: 0.5\n",
      "alpha: 0.7\n",
      "alpha: 0.9\n",
      "data\\coarsening\\negative\\1687547863.7696533\n",
      "alpha: 0.1\n",
      "alpha: 0.3\n",
      "alpha: 0.5\n",
      "alpha: 0.7\n",
      "alpha: 0.9\n",
      "data\\coarsening\\negative\\1687560643.683465\n",
      "alpha: 0.1\n",
      "alpha: 0.3\n",
      "alpha: 0.5\n",
      "alpha: 0.7\n",
      "alpha: 0.9\n",
      "data\\coarsening\\negative\\1687564074.8246047\n",
      "alpha: 0.1\n",
      "alpha: 0.3\n",
      "alpha: 0.5\n",
      "alpha: 0.7\n",
      "alpha: 0.9\n",
      "data\\coarsening\\negative\\1687573601.390096\n",
      "alpha: 0.1\n",
      "alpha: 0.3\n",
      "alpha: 0.5\n",
      "alpha: 0.7\n",
      "alpha: 0.9\n",
      "data\\coarsening\\negative\\1687582756.8300173\n",
      "alpha: 0.1\n",
      "alpha: 0.3\n",
      "alpha: 0.5\n",
      "alpha: 0.7\n",
      "alpha: 0.9\n",
      "data\\coarsening\\negative\\1687592051.491448\n",
      "alpha: 0.1\n",
      "alpha: 0.3\n",
      "alpha: 0.5\n",
      "alpha: 0.7\n",
      "alpha: 0.9\n",
      "data\\coarsening\\negative\\1687595078.135976\n",
      "alpha: 0.1\n",
      "alpha: 0.3\n",
      "alpha: 0.5\n",
      "alpha: 0.7\n",
      "alpha: 0.9\n",
      "data\\coarsening\\negative\\1687601144.1343606\n",
      "alpha: 0.1\n",
      "alpha: 0.3\n",
      "alpha: 0.5\n",
      "alpha: 0.7\n",
      "alpha: 0.9\n",
      "data\\coarsening\\negative\\1687616673.6771145\n",
      "alpha: 0.1\n",
      "alpha: 0.3\n",
      "alpha: 0.5\n",
      "alpha: 0.7\n",
      "alpha: 0.9\n"
     ]
    }
   ],
   "source": [
    "# set the inital input\n",
    "alpha_list = [0.1, 0.3, 0.5,  0.7, 0.9]\n",
    "BC = 'periodic'\n",
    "\n",
    "L = 10\n",
    "eps = 0.1\n",
    "\n",
    "Nx = 2**7\n",
    "x = np.linspace(-L/2, L/2, Nx) \n",
    "y = np.linspace(-L/2, L/2, Nx)\n",
    "\n",
    "h = L / (Nx - 1)\n",
    "dt = 5*1e-3\n",
    "iter_max = 3000\n",
    "\n",
    "# set the discrete laplacian\n",
    "Lap = set_Laplacian2D(Nx, h, BC)\n",
    "\n",
    "if BC == 'periodic':\n",
    "    x = x[:-1]\n",
    "    y = y[:-1]\n",
    "    I = diags(np.ones((Nx-1)**2), shape=((Nx-1)**2, (Nx-1)**2))\n",
    "elif BC == 'neumann':\n",
    "    I = diags(np.ones((Nx)**2), shape=((Nx)**2, (Nx)**2))\n",
    "\n",
    "# set the 2D mesh grid by x and y\n",
    "X, Y = np.meshgrid(x, y)\n",
    "\n",
    "initialName = 'coarsening'\n",
    "\n",
    "signType = 'negative'\n",
    "\n",
    "rootPath = Path('./data/') / initialName / signType\n",
    "\n",
    "dataPath = [folder for folder in rootPath.iterdir() \\\n",
    "            if not folder.name[0].startswith('.')]\n",
    "\n",
    "for folder in dataPath:\n",
    "    print(folder)\n",
    "    \n",
    "    for alpha in alpha_list:\n",
    "        print(f\"alpha: {alpha}\")\n",
    "        u_hist = np.load(folder / f'L1_{alpha}_{initialName}.npy')\n",
    "        u0 = u_hist[0].copy()\n",
    "        u = u0.copy()\n",
    "        \n",
    "        del u_hist\n",
    "        gc.collect()\n",
    "        \n",
    "        u_historyArray = u0\n",
    "        \n",
    "        if alpha == 1:\n",
    "            # solved by classical allen cahn\n",
    "            H = (2+1/dt) * I - eps**2 * Lap\n",
    "        \n",
    "            for i in range(iter_max):\n",
    "                b = (3+1/dt)*u - u**3\n",
    "                u = spsolve(H, b)\n",
    "                u_historyArray = np.vstack([u_historyArray, u])\n",
    "        else:\n",
    "            GL_coef = set_coef(iter_max, alpha, 'GL') / dt**alpha\n",
    "            H = (GL_coef[0]+2) * I - eps**2 * Lap\n",
    "            \n",
    "            for i in range(iter_max):\n",
    "                if i == 0: # first iteration u_1\n",
    "                    b =  (3 + GL_coef[0])*u - u**3\n",
    "                    u = spsolve(H, b)\n",
    "                else:\n",
    "                    u_nonlocalDiff = np.flipud(u_historyArray[1:]-u0)\n",
    "                    u_nonlocal = GL_coef[1:i+1].dot(u_nonlocalDiff)\n",
    "        \n",
    "                    b = 3*u - u**3 - u_nonlocal + GL_coef[0]*u0\n",
    "                    u = spsolve(H, b)\n",
    "            \n",
    "                u_historyArray = np.vstack([u_historyArray, u])\n",
    "    \n",
    "        \n",
    "        dataPath = folder / f'GL_{alpha}_coarsening.npy'\n",
    "        np.save(dataPath, u_historyArray)\n",
    "        "
   ]
  },
  {
   "cell_type": "code",
   "execution_count": 53,
   "id": "66b20e32",
   "metadata": {},
   "outputs": [
    {
     "name": "stdout",
     "output_type": "stream",
     "text": [
      "data\\coarsening\\positive\\1687481457.1038098\n",
      "alpha: 0.1\n",
      "alpha: 0.3\n",
      "alpha: 0.5\n",
      "alpha: 0.7\n",
      "alpha: 0.9\n",
      "data\\coarsening\\positive\\1687528649.6323986\n",
      "alpha: 0.1\n",
      "alpha: 0.3\n",
      "alpha: 0.5\n",
      "alpha: 0.7\n",
      "alpha: 0.9\n",
      "data\\coarsening\\positive\\1687538142.2615962\n",
      "alpha: 0.1\n",
      "alpha: 0.3\n",
      "alpha: 0.5\n",
      "alpha: 0.7\n",
      "alpha: 0.9\n",
      "data\\coarsening\\positive\\1687554144.4695327\n",
      "alpha: 0.1\n",
      "alpha: 0.3\n",
      "alpha: 0.5\n",
      "alpha: 0.7\n",
      "alpha: 0.9\n",
      "data\\coarsening\\positive\\1687576727.7051413\n",
      "alpha: 0.1\n",
      "alpha: 0.3\n",
      "alpha: 0.5\n",
      "alpha: 0.7\n",
      "alpha: 0.9\n",
      "data\\coarsening\\positive\\1687579758.44149\n",
      "alpha: 0.1\n",
      "alpha: 0.3\n",
      "alpha: 0.5\n",
      "alpha: 0.7\n",
      "alpha: 0.9\n",
      "data\\coarsening\\positive\\1687607207.1872554\n",
      "alpha: 0.1\n",
      "alpha: 0.3\n",
      "alpha: 0.5\n",
      "alpha: 0.7\n",
      "alpha: 0.9\n",
      "data\\coarsening\\positive\\1687610257.1605144\n",
      "alpha: 0.1\n",
      "alpha: 0.3\n",
      "alpha: 0.5\n",
      "alpha: 0.7\n",
      "alpha: 0.9\n",
      "data\\coarsening\\positive\\1687620087.0760076\n",
      "alpha: 0.1\n",
      "alpha: 0.3\n",
      "alpha: 0.5\n",
      "alpha: 0.7\n",
      "alpha: 0.9\n",
      "data\\coarsening\\positive\\1687626942.0405877\n",
      "alpha: 0.1\n",
      "alpha: 0.3\n",
      "alpha: 0.5\n",
      "alpha: 0.7\n",
      "alpha: 0.9\n"
     ]
    }
   ],
   "source": [
    "import gc\n",
    "# set the inital input\n",
    "alpha_list = [0.1, 0.3, 0.5,  0.7, 0.9]\n",
    "BC = 'periodic'\n",
    "\n",
    "L = 10\n",
    "eps = 0.1\n",
    "\n",
    "Nx = 2**7\n",
    "x = np.linspace(-L/2, L/2, Nx) \n",
    "y = np.linspace(-L/2, L/2, Nx)\n",
    "\n",
    "h = L / (Nx - 1)\n",
    "dt = 5*1e-3\n",
    "iter_max = 3000\n",
    "\n",
    "# set the discrete laplacian\n",
    "Lap = set_Laplacian2D(Nx, h, BC)\n",
    "\n",
    "if BC == 'periodic':\n",
    "    x = x[:-1]\n",
    "    y = y[:-1]\n",
    "    I = diags(np.ones((Nx-1)**2), shape=((Nx-1)**2, (Nx-1)**2))\n",
    "elif BC == 'neumann':\n",
    "    I = diags(np.ones((Nx)**2), shape=((Nx)**2, (Nx)**2))\n",
    "\n",
    "# set the 2D mesh grid by x and y\n",
    "X, Y = np.meshgrid(x, y)\n",
    "\n",
    "initialName = 'coarsening'\n",
    "\n",
    "signType = 'positive'\n",
    "\n",
    "rootPath = Path('./data/') / initialName / signType\n",
    "\n",
    "dataPath = [folder for folder in rootPath.iterdir() \\\n",
    "            if not folder.name[0].startswith('.')]\n",
    "\n",
    "for folder in dataPath:\n",
    "    print(folder)\n",
    "    \n",
    "    for alpha in alpha_list:\n",
    "        print(f\"alpha: {alpha}\")\n",
    "        u_hist = np.load(folder / f'L1_{alpha}_{initialName}.npy')\n",
    "        u0 = u_hist[0].copy()\n",
    "        u = u0.copy()\n",
    "        \n",
    "        del u_hist\n",
    "        gc.collect()\n",
    "        \n",
    "        u_historyArray = u0\n",
    "        \n",
    "        if alpha == 1:\n",
    "            # solved by classical allen cahn\n",
    "            H = (2+1/dt) * I - eps**2 * Lap\n",
    "        \n",
    "            for i in range(iter_max):\n",
    "                b = (3+1/dt)*u - u**3\n",
    "                u = spsolve(H, b)\n",
    "                u_historyArray = np.vstack([u_historyArray, u])\n",
    "        else:\n",
    "            GL_coef = set_coef(iter_max, alpha, 'GL') / dt**alpha\n",
    "            H = (GL_coef[0]+2) * I - eps**2 * Lap\n",
    "            \n",
    "            for i in range(iter_max):\n",
    "                if i == 0: # first iteration u_1\n",
    "                    b =  (3 + GL_coef[0])*u - u**3\n",
    "                    u = spsolve(H, b)\n",
    "                else:\n",
    "                    u_nonlocalDiff = np.flipud(u_historyArray[1:]-u0)\n",
    "                    u_nonlocal = GL_coef[1:i+1].dot(u_nonlocalDiff)\n",
    "        \n",
    "                    b = 3*u - u**3 - u_nonlocal + GL_coef[0]*u0\n",
    "                    u = spsolve(H, b)\n",
    "            \n",
    "                u_historyArray = np.vstack([u_historyArray, u])\n",
    "    \n",
    "        \n",
    "        dataPath = folder / f'GL_{alpha}_coarsening.npy'\n",
    "        np.save(dataPath, u_historyArray)\n",
    "        "
   ]
  },
  {
   "cell_type": "code",
   "execution_count": 50,
   "id": "ee4c6797",
   "metadata": {},
   "outputs": [
    {
     "name": "stdout",
     "output_type": "stream",
     "text": [
      "alpha: 0.1\n",
      "alpha: 0.3\n",
      "alpha: 0.5\n",
      "alpha: 0.7\n",
      "alpha: 0.9\n",
      "alpha: 1\n"
     ]
    },
    {
     "data": {
      "image/png": "[encoded data removed]",
      "text/plain": [
       "<Figure size 1080x576 with 1 Axes>"
      ]
     },
     "metadata": {
      "needs_background": "light"
     },
     "output_type": "display_data"
    }
   ],
   "source": [
    "alpha_list = [0.1, 0.3, 0.5,  0.7, 0.9, 1]\n",
    "BC = 'periodic'\n",
    "\n",
    "L = 10\n",
    "eps = 0.1\n",
    "\n",
    "Nx = 2**5\n",
    "x = np.linspace(-L/2, L/2, Nx) \n",
    "y = np.linspace(-L/2, L/2, Nx)\n",
    "\n",
    "h = L / (Nx - 1)\n",
    "dt = 5*1e-3\n",
    "iter_max = 2000\n",
    "\n",
    "u = 0.05*(2*np.random.rand(Nx-1, Nx-1)-1)\n",
    "u0 = u.flatten()\n",
    "\n",
    "\n",
    "# set the discrete laplacian\n",
    "Lap = set_Laplacian2D(Nx, h, BC)\n",
    "\n",
    "if BC == 'periodic':\n",
    "    x = x[:-1]\n",
    "    y = y[:-1]\n",
    "    I = diags(np.ones((Nx-1)**2), shape=((Nx-1)**2, (Nx-1)**2))\n",
    "elif BC == 'neumann':\n",
    "    I = diags(np.ones((Nx)**2), shape=((Nx)**2, (Nx)**2))\n",
    "\n",
    "# set the 2D mesh grid by x and y\n",
    "X, Y = np.meshgrid(x, y)\n",
    "\n",
    "# the dicitionary to storage the different fractional order results\n",
    "data_dict = {}\n",
    "\n",
    "# set a figure to plot the energy in different alpha\n",
    "fig = plt.figure(figsize=(15,8))\n",
    "\n",
    "for alpha in alpha_list:\n",
    "    print(f\"alpha: {alpha}\")\n",
    "    energy_list = [compute_classical_energy(u0, eps, h)]\n",
    "    u_historyArray = u0\n",
    "    u = u0\n",
    "        \n",
    "        \n",
    "    if alpha == 1:\n",
    "        # solved by classical allen cahn\n",
    "        H = (2+1/dt) * I - eps**2 * Lap\n",
    "        \n",
    "        for i in range(iter_max):\n",
    "                b = (3+1/dt)*u - u**3\n",
    "                u = spsolve(H, b)\n",
    "                energy = compute_classical_energy(u, eps, h)\n",
    "                energy_list.append(energy)\n",
    "                u_historyArray = np.vstack([u_historyArray, u])\n",
    "    else:\n",
    "        GL_coef = set_coef(iter_max, alpha, 'GL') / dt**alpha\n",
    "        H = (GL_coef[0]+2) * I - eps**2 * Lap\n",
    "            \n",
    "        for i in range(iter_max):\n",
    "            if i == 0: # first iteration u_1\n",
    "                b =  (3 + GL_coef[0])*u - u**3\n",
    "                u = spsolve(H, b)\n",
    "            else:\n",
    "                u_nonlocalDiff = np.flipud(u_historyArray[1:]-u0)\n",
    "                u_nonlocal = GL_coef[1:i+1].dot(u_nonlocalDiff)\n",
    "        \n",
    "                b = 3*u - u**3 - u_nonlocal + GL_coef[0]*u0\n",
    "                u = spsolve(H, b)\n",
    "            \n",
    "            u_historyArray = np.vstack([u_historyArray, u])\n",
    "            energy = compute_classical_energy(u, eps, h)\n",
    "            energy_list.append(energy)\n",
    "\n",
    "    plt.plot(energy_list)\n",
    "    data_dict[alpha] = u_historyArray\n",
    "    \n",
    "plt.legend([r\"$\\alpha=$\"+f\"{alpha}\" for alpha in alpha_list])\n",
    "plt.title(r\"Classical Energy with Different $\\alpha$\", fontsize=18)\n",
    "plt.xlabel(r\"$k$\", fontsize=18)\n",
    "plt.ylabel(r\"$E[U_{k}]$\", fontsize=18)\n",
    "plt.grid()\n",
    "plt.show()"
   ]
  },
  {
   "cell_type": "code",
   "execution_count": 11,
   "id": "0e38d284",
   "metadata": {},
   "outputs": [
    {
     "ename": "NameError",
     "evalue": "name 'X' is not defined",
     "output_type": "error",
     "traceback": [
      "\u001b[1;31m---------------------------------------------------------------------------\u001b[0m",
      "\u001b[1;31mNameError\u001b[0m                                 Traceback (most recent call last)",
      "Input \u001b[1;32mIn [11]\u001b[0m, in \u001b[0;36m<cell line: 2>\u001b[1;34m()\u001b[0m\n\u001b[0;32m      1\u001b[0m plt\u001b[38;5;241m.\u001b[39mfigure(figsize\u001b[38;5;241m=\u001b[39m(\u001b[38;5;241m10\u001b[39m,\u001b[38;5;241m3\u001b[39m))\n\u001b[1;32m----> 2\u001b[0m plt\u001b[38;5;241m.\u001b[39mcontourf(\u001b[43mX\u001b[49m,Y, np\u001b[38;5;241m.\u001b[39mreshape(data_dict[\u001b[38;5;241m0.9\u001b[39m][\u001b[38;5;241m-\u001b[39m\u001b[38;5;241m1\u001b[39m], (Nx\u001b[38;5;241m-\u001b[39m\u001b[38;5;241m1\u001b[39m,Nx\u001b[38;5;241m-\u001b[39m\u001b[38;5;241m1\u001b[39m)), cmap\u001b[38;5;241m=\u001b[39m\u001b[38;5;124m\"\u001b[39m\u001b[38;5;124mturbo\u001b[39m\u001b[38;5;124m\"\u001b[39m)\n\u001b[0;32m      3\u001b[0m plt\u001b[38;5;241m.\u001b[39mcolorbar()\n\u001b[0;32m      4\u001b[0m plt\u001b[38;5;241m.\u001b[39mtitle(\u001b[38;5;124m'\u001b[39m\u001b[38;5;124mcoarsening\u001b[39m\u001b[38;5;124m'\u001b[39m)\n",
      "\u001b[1;31mNameError\u001b[0m: name 'X' is not defined"
     ]
    },
    {
     "data": {
      "text/plain": [
       "<Figure size 720x216 with 0 Axes>"
      ]
     },
     "metadata": {},
     "output_type": "display_data"
    }
   ],
   "source": [
    "plt.figure(figsize=(12,5))\n",
    "plt.contourf(X,Y, np.reshape(data_dict[0.9][-1], (Nx-1,Nx-1)), cmap=\"turbo\")\n",
    "plt.colorbar()\n",
    "plt.title('coarsening')\n",
    "plt.xlabel('x')\n",
    "plt.ylabel('y')\n",
    "plt.show()"
   ]
  },
  {
   "cell_type": "code",
   "execution_count": 4,
   "id": "a531aaa5",
   "metadata": {},
   "outputs": [],
   "source": [
    "rootPath = Path('./data/') / 'coarsening' / 'others'\n",
    "\n",
    "dataPath = [folder for folder in rootPath.iterdir() \\\n",
    "            if not folder.name[0].startswith('.')]"
   ]
  },
  {
   "cell_type": "code",
   "execution_count": 10,
   "id": "47af5146",
   "metadata": {},
   "outputs": [
    {
     "name": "stdout",
     "output_type": "stream",
     "text": [
      "alpha: 0.1\n",
      "alpha: 0.3\n",
      "alpha: 0.5\n",
      "alpha: 0.7\n",
      "alpha: 0.9\n",
      "alpha: 1\n"
     ]
    },
    {
     "data": {
      "image/png": "[encoded data removed]",
      "text/plain": [
       "<Figure size 864x360 with 1 Axes>"
      ]
     },
     "metadata": {
      "needs_background": "light"
     },
     "output_type": "display_data"
    }
   ],
   "source": [
    "alpha_list = [0.1, 0.3, 0.5, 0.7, 0.9, 1]\n",
    "fig = plt.figure(figsize=(12,5))\n",
    "\n",
    "for alpha in alpha_list:\n",
    "    energy_list = []\n",
    "    print(f\"alpha: {alpha}\")\n",
    "    u_hist = np.load(dataPath[0] / f'L1_{alpha}_coarsening.npy')\n",
    "    for i in range(3001):\n",
    "        energy_list.append(compute_classical_energy(u_hist[i], 0.1, 10/127))\n",
    "    plt.plot(energy_list)\n",
    "\n",
    "plt.legend([r\"$\\alpha=$\"+f\"{alpha}\" for alpha in alpha_list])\n",
    "plt.title(r\"Classical Energy with Different $\\alpha$\", fontsize=18)\n",
    "plt.xlabel(r\"$k$\", fontsize=18)\n",
    "plt.ylabel(r\"$E[U_{k}]$\", fontsize=18)\n",
    "plt.grid()\n",
    "plt.show()"
   ]
  }
 ],
 "metadata": {
  "kernelspec": {
   "display_name": "Python 3 (ipykernel)",
   "language": "python",
   "name": "python3"
  },
  "language_info": {
   "codemirror_mode": {
    "name": "ipython",
    "version": 3
   },
   "file_extension": ".py",
   "mimetype": "text/x-python",
   "name": "python",
   "nbconvert_exporter": "python",
   "pygments_lexer": "ipython3",
   "version": "3.9.12"
  }
 },
 "nbformat": 4,
 "nbformat_minor": 5
}
